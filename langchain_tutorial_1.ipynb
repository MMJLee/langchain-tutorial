{
 "cells": [
  {
   "cell_type": "code",
   "execution_count": 3,
   "id": "9089c312-bd4a-4e35-8ba9-1e85efbc0974",
   "metadata": {},
   "outputs": [
    {
     "data": {
      "text/plain": [
       "True"
      ]
     },
     "execution_count": 3,
     "metadata": {},
     "output_type": "execute_result"
    }
   ],
   "source": [
    "from dotenv import load_dotenv, find_dotenv\n",
    "load_dotenv(find_dotenv())"
   ]
  },
  {
   "cell_type": "code",
   "execution_count": 4,
   "id": "e1c3ea7f-5473-446d-998f-28c29e10ab2c",
   "metadata": {},
   "outputs": [],
   "source": [
    "from langchain_google_genai import ChatGoogleGenerativeAI\n",
    "llm = ChatGoogleGenerativeAI(\n",
    "    model=\"gemini-2.5-flash\",\n",
    "    temperature=0.7,\n",
    "    max_tokens=None,\n",
    "    timeout=None,\n",
    "    max_retries=2,\n",
    "    # other params...\n",
    ")"
   ]
  },
  {
   "cell_type": "code",
   "execution_count": null,
   "id": "be7ca0d5-e109-4be5-a4b4-08b1e8be206e",
   "metadata": {},
   "outputs": [
    {
     "data": {
      "text/plain": [
       "AIMessage(content='Large language models are powerful AI programs trained on immense text datasets to predict the next most probable word, enabling them to understand, generate, and process human-like language.', additional_kwargs={}, response_metadata={'prompt_feedback': {'block_reason': 0, 'safety_ratings': []}, 'finish_reason': 'STOP', 'model_name': 'gemini-2.5-flash', 'safety_ratings': []}, id='run--487bd98c-09ee-4c68-9ebd-217a9c0a461c-0', usage_metadata={'input_tokens': 8, 'output_tokens': 34, 'total_tokens': 783, 'input_token_details': {'cache_read': 0}, 'output_token_details': {'reasoning': 741}})"
      ]
     },
     "execution_count": 5,
     "metadata": {},
     "output_type": "execute_result"
    }
   ],
   "source": [
    "llm.invoke(\"explain large langage models in one sentence\")"
   ]
  },
  {
   "cell_type": "code",
   "execution_count": null,
   "id": "5cbbbf54",
   "metadata": {},
   "outputs": [
    {
     "name": "stdout",
     "output_type": "stream",
     "text": [
      "It takes great courage and self-awareness to acknowledge and seek help for uncontrollable anger. This is a very serious issue, as it can damage relationships, career, health, and even lead to legal problems or harm.\n",
      "\n",
      "Given that you describe it as \"uncontrollable,\" the most important first step is **seeking professional help.** While I can offer strategies, true \"uncontrollable\" anger often stems from deeper issues that require a trained therapist or psychologist to address.\n",
      "\n",
      "Here's a comprehensive approach to managing uncontrollable anger:\n",
      "\n",
      "---\n",
      "\n",
      "### **I. IMMEDIATE STEPS (When Anger is Escalating)**\n",
      "\n",
      "These are techniques to use when you feel anger starting to boil or becoming overwhelming.\n",
      "\n",
      "1.  **Take a Time-Out (Physical Distance):**\n",
      "    *   Physically remove yourself from the situation or person that is triggering your anger. Go to another room, step outside, or leave the building.\n",
      "    *   Tell the other person, \"I need to take a break. I'll come back when I'm calmer.\" This avoids further escalation and communicates your intent.\n",
      "\n",
      "2.  **Deep Breathing:**\n",
      "    *   Slow, diaphragmatic breathing calms your nervous system. Inhale deeply through your nose for 4 counts, hold for 4, exhale slowly through your mouth for 6-8 counts. Repeat 5-10 times. Focus only on your breath.\n",
      "\n",
      "3.  **Count Down or Up:**\n",
      "    *   Count slowly from 100 backwards. This engages the logical part of your brain and distracts from the emotional surge.\n",
      "\n",
      "4.  **Use Calming Imagery:**\n",
      "    *   Close your eyes and visualize a peaceful place or a calming scene. Focus on the details – sights, sounds, smells.\n",
      "\n",
      "5.  **Progressive Muscle Relaxation:**\n",
      "    *   Tense a group of muscles (e.g., your fists) for 5 seconds, then completely relax them for 10-15 seconds. Move through different muscle groups (arms, shoulders, face, chest, legs). This releases physical tension.\n",
      "\n",
      "6.  **Splash Cold Water:**\n",
      "    *   Splashing cold water on your face or holding ice cubes can trigger the \"mammalian diving reflex,\" which slows heart rate and calms the nervous system.\n",
      "\n",
      "7.  **Engage Your Senses:**\n",
      "    *   Focus on 5 things you can see, 4 things you can hear, 3 things you can feel, 2 things you can smell, and 1 thing you can taste. This grounds you in the present moment.\n",
      "\n",
      "---\n",
      "\n",
      "### **II. LONG-TERM STRATEGIES (Foundational Work)**\n",
      "\n",
      "These strategies require consistent effort and are best developed with professional guidance.\n",
      "\n",
      "1.  **Seek Professional Help (CRITICAL for \"Uncontrollable\"):**\n",
      "    *   **Therapist/Psychologist:** This is the most crucial step. They can help you:\n",
      "        *   **Identify Triggers:** What specific situations, thoughts, or people consistently provoke your anger?\n",
      "        *   **Understand Underlying Causes:** Anger is often a secondary emotion, covering up feelings like hurt, fear, sadness, shame, frustration, or helplessness. A therapist can help you explore past trauma, unresolved conflicts, or core beliefs contributing to your anger.\n",
      "        *   **Develop Coping Skills:** Learn healthy ways to express anger and manage intense emotions.\n",
      "        *   **Cognitive Behavioral Therapy (CBT):** Helps you identify and change irrational or negative thought patterns that fuel anger (e.g., \"catastrophizing,\" \"all-or-nothing thinking\").\n",
      "        *   **Dialectical Behavior Therapy (DBT):** Excellent for emotional regulation, distress tolerance, and interpersonal effectiveness.\n",
      "        *   **Anger Management Programs:** Structured programs designed to teach specific skills.\n",
      "    *   **Psychiatrist:** If underlying mental health conditions (like depression, anxiety disorders, PTSD, or bipolar disorder) are contributing to your anger, a psychiatrist can assess and prescribe medication if appropriate.\n",
      "\n",
      "2.  **Identify and Challenge Angry Thoughts:**\n",
      "    *   **Thought Records:** When you feel angry, write down:\n",
      "        *   The situation.\n",
      "        *   Your thoughts (e.g., \"They *always* do this,\" \"This is *unacceptable*\").\n",
      "        *   Your emotions (anger level 1-10).\n",
      "        *   Alternative, more balanced thoughts (e.g., \"They might not have meant to,\" \"I can choose how I react\").\n",
      "        *   Your new emotion level.\n",
      "    *   **Avoid \"Shoulds\" and \"Musts\":** These rigid expectations often lead to frustration and anger when reality doesn't conform.\n",
      "\n",
      "3.  **Improve Communication Skills:**\n",
      "    *   **\"I\" Statements:** Instead of \"You always make me angry,\" say, \"I feel angry when [specific behavior] because [impact on you].\"\n",
      "    *   **Active Listening:** Truly listen to others without interrupting or planning your rebuttal.\n",
      "    *   **Assertiveness vs. Aggression:** Learn to express your needs and boundaries clearly and respectfully without being hostile or demeaning.\n",
      "\n",
      "4.  **Practice Mindfulness and Meditation:**\n",
      "    *   Regular mindfulness practice (even 10-15 minutes a day) increases your awareness of thoughts and emotions *before* they become overwhelming, giving you a chance to intervene.\n",
      "\n",
      "5.  **Lifestyle Adjustments:**\n",
      "    *   **Regular Exercise:** A great way to release pent-up energy and reduce stress.\n",
      "    *   **Adequate Sleep:** Sleep deprivation significantly impairs emotional regulation. Aim for 7-9 hours.\n",
      "    *   **Healthy Diet:** Stable blood sugar levels can help prevent irritability.\n",
      "    *   **Limit Alcohol/Drugs:** These can lower inhibitions and worsen anger control.\n",
      "    *   **Stress Management:** Identify your major stressors and develop healthy coping mechanisms (hobbies, relaxation techniques, delegating tasks).\n",
      "\n",
      "6.  **Develop a \"Calm Down\" Plan:**\n",
      "    *   Work with your therapist to create a personalized step-by-step plan for when anger arises. This might include specific phrases to say, places to go, or activities to do.\n",
      "\n",
      "7.  **Journaling:**\n",
      "    *   Write about your anger triggers, what you feel in your body, the thoughts that run through your mind, and the aftermath. This can help you see patterns and gain insight.\n",
      "\n",
      "8.  **Build a Support System:**\n",
      "    *   Confide in trusted friends or family members who can offer support and hold you accountable. Avoid people who enable your anger or provoke it further.\n",
      "\n",
      "---\n",
      "\n",
      "### **III. SAFETY FIRST**\n",
      "\n",
      "If you fear you might harm yourself or others during an anger outburst:\n",
      "\n",
      "*   **Remove yourself immediately.**\n",
      "*   **Remove any potential weapons** from your immediate vicinity.\n",
      "*   **Call for help:**\n",
      "    *   **Emergency Services (911 or your local equivalent)** if you or someone else is in immediate danger.\n",
      "    *   **Crisis Hotlines:** Many areas have mental health crisis lines that can offer immediate support and guidance.\n",
      "    *   **A trusted friend or family member** who knows about your struggles and can offer support.\n",
      "\n",
      "---\n",
      "\n",
      "Managing uncontrollable anger is a journey, not a destination. It requires commitment, patience, and often, professional guidance. Remember, seeking help is a sign of strength and a vital step towards a healthier, happier life.\n"
     ]
    }
   ],
   "source": [
    "\n",
    "messages = [\n",
    "    (\"system\", \"You are an expert psychologist.\"),\n",
    "    (\"human\", \"What should I do to manage uncontrollable anger?\"),\n",
    "]\n",
    "response = llm.invoke(messages)\n",
    "print(response.content)"
   ]
  },
  {
   "cell_type": "code",
   "execution_count": null,
   "id": "e14b88cb",
   "metadata": {},
   "outputs": [],
   "source": [
    "from langchain import PromptTemplate\n",
    "\n",
    "template = \"\"\"\n",
    "    Y\n",
    "\"\"\""
   ]
  }
 ],
 "metadata": {
  "kernelspec": {
   "display_name": "Python 3 (ipykernel)",
   "language": "python",
   "name": "python3"
  },
  "language_info": {
   "codemirror_mode": {
    "name": "ipython",
    "version": 3
   },
   "file_extension": ".py",
   "mimetype": "text/x-python",
   "name": "python",
   "nbconvert_exporter": "python",
   "pygments_lexer": "ipython3",
   "version": "3.12.2"
  }
 },
 "nbformat": 4,
 "nbformat_minor": 5
}
